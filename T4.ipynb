{
 "cells": [
  {
   "metadata": {},
   "cell_type": "markdown",
   "source": [
    "我们采用基于Unet的扩散模型并使用EUVP数据集来进行水下图像模型的训练。\n",
    "EUVP数据集（Enhance Underwater Visual Perception Dataset）是一个专门用于水下图像处理的公开数据集，主要用于研究和开发水下图像增强和恢复技术。"
   ],
   "id": "d76736a1516894bf"
  },
  {
   "cell_type": "code",
   "execution_count": null,
   "id": "initial_id",
   "metadata": {
    "collapsed": true
   },
   "outputs": [],
   "source": [
    "import torch\n",
    "import os\n",
    "from torchvision.utils import save_image\n",
    "from PIL import Image\n",
    "from T4_train import *"
   ]
  },
  {
   "metadata": {},
   "cell_type": "code",
   "outputs": [],
   "execution_count": null,
   "source": [
    "device = torch.device(\"cuda\" if torch.cuda.is_available() else \"cpu\")\n",
    "\n",
    "target_imgs_path = os.path.join(os.getcwd(), 'Attachment', \"Attachment 2\")\n",
    "output_imgs_path = os.path.join(os.getcwd(), 'imgs_output')\n",
    "if not os.path.exists(output_imgs_path):\n",
    "    os.makedirs(output_imgs_path)\n",
    "\n",
    "transform = transforms.Compose([\n",
    "    transforms.Resize((256, 256)),\n",
    "    transforms.ToTensor()])\n",
    "img_size = (256,256)\n",
    "timesteps = 1000\n",
    "\n",
    "model = UNet(in_channels=3, out_channels=3).to(device)\n",
    "model.load_state_dict(torch.load(\"./diffusion_model.pth\"))\n",
    "model.eval()\n",
    "diffusion = DiffusionModel(model, img_size, timesteps, device)\n",
    "\n",
    "for img in os.listdir(target_imgs_path):\n",
    "    img_path = os.path.join(target_imgs_path, img)\n",
    "    if img_path.lower().endswith(('.png', '.jpg', '.jpeg')):\n",
    "        img = Image.open(img_path).convert('RGB')\n",
    "        img = transform(img).unsqueeze(0).to(device)\n",
    "        \n",
    "        with torch.no_grad():\n",
    "            generated_img = diffusion.generate(batch_size=1)\n",
    "        \n",
    "        output_imgs_path = os.path.join(output_imgs_path, f\"generated_{img}\")\n",
    "        save_image(generated_img, output_imgs_path)\n",
    "        \n",
    "        print(f'{img} has been generated!')"
   ],
   "id": "1a26e41917c77cae"
  }
 ],
 "metadata": {
  "kernelspec": {
   "display_name": "Python 3",
   "language": "python",
   "name": "python3"
  },
  "language_info": {
   "codemirror_mode": {
    "name": "ipython",
    "version": 2
   },
   "file_extension": ".py",
   "mimetype": "text/x-python",
   "name": "python",
   "nbconvert_exporter": "python",
   "pygments_lexer": "ipython2",
   "version": "2.7.6"
  }
 },
 "nbformat": 4,
 "nbformat_minor": 5
}
