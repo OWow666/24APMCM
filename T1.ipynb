{
 "cells": [
  {
   "metadata": {},
   "cell_type": "markdown",
   "source": [
    "**本题的核心方法是采用统计分析技术提取图像的颜色、亮度和清晰度特征，以实现对退化类型的精确分类。**\n",
    "### 颜色偏移（color cast）检测\n",
    "颜色偏移主要是由于水对不同波长光的吸收差异而引起，通常表现为图像的单一颜色通道（RGB）占主导地位。\n",
    "通过分别计算RGB三个通道的均值（R为Red通道的均值，G为Green通道的均值，B为Blue通道的均值），分析不同通道的分布不均衡性。\n",
    "采用公式 Color_Imbalance=max(∣R−G∣,∣R−B∣,∣G−B∣) 计算得到颜色偏移指标，采用cc作为阈值。\n",
    "当颜色偏移指标超过阈值时，这判断为存在显著的颜色偏移。  \n",
    "\n",
    "参考文献：  \n",
    "Ancuti, C. O., Ancuti, C., De Vleeschouwer, C., & Bekaert, P. (2012). Enhancing underwater images and videos by fusion. Proceedings of the IEEE Conference on Computer Vision and Pattern Recognition (CVPR).\n",
    "\n",
    "### 低光照（low light）检测\n",
    "低光照是由于水中光的传播损耗导致的，表现为图像亮度较低且对比度不足。\n",
    "通过将图片转化为灰度图，计算其平均亮度和亮度对比度，采用L1和L2分别作为亮度和对比度的阈值。\n",
    "若超过阈值，则判断为低光照图像。  \n",
    "\n",
    "参考文献：  \n",
    "Iqbal, K., Odetayo, M., & James, A. (2010). Enhancing the low quality images using Unsupervised Color Correction Method. International Conference on Systems, Man and Cybernetics.\n",
    "\n",
    "### 模糊（blur）检测\n",
    "模糊通常由前向散射或成像设备性能限制引起，表现为图像细节模糊不清。\n",
    "采用拉普拉斯算子检测图像的梯度变化，并计算梯度方差。取b为阈值。\n",
    "若方差超过阈值，则判断为模糊图像。  \n",
    "\n",
    "参考文献：  \n",
    "Pertuz, S., Puig, D., & Garcia, M. A. (2013). Analysis of focus measure operators for shape-from-focus. Pattern Recognition."
   ],
   "id": "4238818771a4c935"
  },
  {
   "cell_type": "code",
   "id": "initial_id",
   "metadata": {
    "collapsed": true,
    "ExecuteTime": {
     "end_time": "2024-11-23T12:53:08.499213Z",
     "start_time": "2024-11-23T12:53:08.495860Z"
    }
   },
   "source": [
    "import cv2\n",
    "import numpy as np\n",
    "import os"
   ],
   "outputs": [],
   "execution_count": 2
  },
  {
   "metadata": {},
   "cell_type": "markdown",
   "source": "",
   "id": "e356edd7523d096c"
  },
  {
   "metadata": {
    "ExecuteTime": {
     "end_time": "2024-11-23T12:53:37.922340Z",
     "start_time": "2024-11-23T12:53:37.915315Z"
    }
   },
   "cell_type": "code",
   "source": [
    "def classify_images(folder_path, cc, L1, L2, b):\n",
    "    classifications = {\"color_cast\":[],\n",
    "                       \"low_light\":[],\n",
    "                       \"blur\":[]}\n",
    "    \n",
    "    for filename in os.listdir(folder_path):\n",
    "        file_path = os.path.join(folder_path, filename)\n",
    "        img = cv2.imread(file_path)\n",
    "        \n",
    "        # Color Cast\n",
    "        B_mean, G_mean, R_mean = cv2.mean(img)[:3]\n",
    "        color_imbalance = max(abs(R_mean- G_mean), abs(G_mean - B_mean), abs(B_mean - R_mean))\n",
    "        is_color_cast = color_imbalance > cc\n",
    "        \n",
    "        # Low Light\n",
    "        gray_img = cv2.cvtColor(img, cv2.COLOR_BGR2GRAY)\n",
    "        is_low_light = np.mean(gray_img) < L1\n",
    "        is_low_contrast = np.std(gray_img) < L2\n",
    "        \n",
    "        # Blur\n",
    "        Var_Laplacian = cv2.Laplacian(gray_img, cv2.CV_64F).var()\n",
    "        is_blur = Var_Laplacian < b\n",
    "        \n",
    "        if is_color_cast:\n",
    "            classifications[\"color_cast\"].append(filename)\n",
    "        if is_low_light or is_low_contrast:\n",
    "            classifications[\"low_light\"].append(filename)\n",
    "        if is_blur:\n",
    "            classifications[\"blur\"].append(filename)\n",
    "    \n",
    "    return classifications"
   ],
   "id": "91d0ef1b7fec9738",
   "outputs": [],
   "execution_count": 3
  },
  {
   "metadata": {
    "ExecuteTime": {
     "end_time": "2024-11-23T12:53:49.462132Z",
     "start_time": "2024-11-23T12:53:41.101279Z"
    }
   },
   "cell_type": "code",
   "source": [
    "images_folder_path = os.path.join(os.path.join(os.getcwd(), \"Attachment\"), \"Attachment 1\")\n",
    "results = classify_images(images_folder_path, 50, 20, 50, 100)"
   ],
   "id": "f870a1e8abd1d7ae",
   "outputs": [],
   "execution_count": 4
  },
  {
   "metadata": {
    "ExecuteTime": {
     "end_time": "2024-11-23T12:53:53.237685Z",
     "start_time": "2024-11-23T12:53:51.712300Z"
    }
   },
   "cell_type": "code",
   "source": [
    "import pandas as pd\n",
    "\n",
    "df = pd.read_excel('Answer.xls')\n",
    "\n",
    "for key, value in results.items():\n",
    "    item_df = pd.DataFrame({\n",
    "        'Degraded Image Classification': [key] * len(value),\n",
    "        'image file name': value\n",
    "    })\n",
    "    df = pd.concat([df, item_df], ignore_index=True)\n",
    "\n",
    "df.to_excel('Answer_updated.xlsx', index=False)"
   ],
   "id": "e6d19b5d40267372",
   "outputs": [],
   "execution_count": 5
  }
 ],
 "metadata": {
  "kernelspec": {
   "display_name": "Python 3",
   "language": "python",
   "name": "python3"
  },
  "language_info": {
   "codemirror_mode": {
    "name": "ipython",
    "version": 2
   },
   "file_extension": ".py",
   "mimetype": "text/x-python",
   "name": "python",
   "nbconvert_exporter": "python",
   "pygments_lexer": "ipython2",
   "version": "2.7.6"
  }
 },
 "nbformat": 4,
 "nbformat_minor": 5
}
